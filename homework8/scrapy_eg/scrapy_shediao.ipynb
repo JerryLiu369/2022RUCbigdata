{
 "cells": [
  {
   "cell_type": "code",
   "execution_count": 56,
   "metadata": {},
   "outputs": [],
   "source": [
    "# 引入数据集\n",
    "f = open(\"shediao.txt\",\"tr\",encoding=\"utf-8\")\n",
    "\n",
    "#print (line)\n",
    "lines =f.readlines()\n",
    "raw_sentences=[]\n",
    "for line in lines:\n",
    "    sens = re.split(\"。|!|？|\\n\",line)\n",
    "    for sen in sens:\n",
    "        #sen = sen.replace(r\",|\\\"|”|“|《|》|，|\\,|:|\\?|\\”\",\" \")\n",
    "        sen = re.sub(r\"[^\\w\\s]\",\" \", sen)\n",
    "        \n",
    "        sen = sen.strip()\n",
    "        if len(sen)>1:\n",
    "            raw_sentences.append(sen)\n",
    "\n",
    "sentences=[]\n",
    "for sen in raw_sentences:\n",
    "    words = jieba.lcut(sen)\n",
    "    sentences.append(words)\n",
    "\n",
    "fout=open(\"shediao-b1.txt\",\"tw\",encoding=\"utf-8\")\n",
    "fout.writelines([\" \".join(words) +\"\\n\" for words in sentences])\n",
    "fout.close()\n"
   ]
  },
  {
   "cell_type": "code",
   "execution_count": 62,
   "metadata": {},
   "outputs": [
    {
     "name": "stdout",
     "output_type": "stream",
     "text": [
      "get bigrams...\n",
      "get trigrams...\n",
      "save files...\n",
      "train...\n"
     ]
    }
   ],
   "source": [
    "#encoding=utf-8\n",
    "import re\n",
    "from gensim.models import word2vec\n",
    "from gensim.models import Phrases\n",
    "import jieba\n",
    "\n",
    "# 引入数据集\n",
    "f = open(\"shediao-b1.txt\",\"tr\",encoding=\"utf-8\")\n",
    "\n",
    "#print (line)\n",
    "raw_sentences =f.readlines()\n",
    "\n",
    "sentences=[]\n",
    "for sen in raw_sentences:\n",
    "    words = sen.split()\n",
    "    sentences.append(words)\n",
    "\n",
    "print(\"get bigrams...\")\n",
    "bigram_transformer = Phrases(sentences,min_count=20, threshold=20)\n",
    "newsentences = bigram_transformer[sentences]\n",
    "\n",
    "print(\"get trigrams...\")\n",
    "trigram_model = Phrases(newsentences,min_count=20, threshold=20)\n",
    "newsentences = trigram_model[newsentences]\n",
    "\n",
    "print(\"save files...\")\n",
    "fout=open(\"shediao-b3.txt\",\"tw\",encoding=\"utf-8\")\n",
    "fout.writelines([\" \".join(words)+\"\\n\" for words in newsentences])\n",
    "fout.close()\n",
    "\n",
    "print(\"train...\")\n",
    "model = word2vec.Word2Vec(newsentences, min_count=1)\n",
    "\n",
    "\n",
    "\n",
    "\n",
    "\n",
    "\n"
   ]
  },
  {
   "cell_type": "code",
   "execution_count": 71,
   "metadata": {},
   "outputs": [
    {
     "data": {
      "text/plain": [
       "[('一招', 0.9990143179893494),\n",
       " ('兀自', 0.9988285899162292),\n",
       " ('微微', 0.9987970590591431),\n",
       " ('四下', 0.9987051486968994),\n",
       " ('落下', 0.9986834526062012),\n",
       " ('各人', 0.9986763596534729),\n",
       " ('处', 0.998625636100769),\n",
       " ('之声', 0.99857497215271),\n",
       " ('全身', 0.9985332489013672),\n",
       " ('正', 0.9985330104827881),\n",
       " ('犹如', 0.9985330104827881),\n",
       " ('抬头', 0.9985281825065613),\n",
       " ('当地', 0.9985272884368896),\n",
       " ('时', 0.9985105395317078),\n",
       " ('一齐', 0.9984939694404602),\n",
       " ('掌', 0.9984804391860962),\n",
       " ('近', 0.9984706044197083),\n",
       " ('凌厉', 0.9984177350997925),\n",
       " ('跌倒', 0.9984154105186462),\n",
       " ('渐渐', 0.9984104633331299)]"
      ]
     },
     "execution_count": 71,
     "metadata": {},
     "output_type": "execute_result"
    }
   ],
   "source": [
    "q=\"亢龙有悔\"\n",
    "words = jieba.lcut(q)\n",
    "sentence = \"_\".join(words)\n",
    "model.wv.most_similar([sentence],topn=20)\n",
    "\n",
    "\n",
    "\n"
   ]
  },
  {
   "cell_type": "code",
   "execution_count": 33,
   "metadata": {},
   "outputs": [
    {
     "data": {
      "text/plain": [
       "[('《', 0.9908711910247803),\n",
       " ('》', 0.9898040294647217),\n",
       " ('道德经', 0.9221130609512329),\n",
       " ('锻骨篇', 0.9203351140022278),\n",
       " ('易筋', 0.9124500155448914),\n",
       " ('生曲', 0.9124355316162109),\n",
       " ('易经', 0.9046928286552429),\n",
       " ('水龙吟', 0.898698091506958),\n",
       " ('中所载', 0.8915188908576965),\n",
       " ('一篇', 0.8845388293266296),\n",
       " ('总纲', 0.8803895711898804),\n",
       " ('重山', 0.8733043074607849),\n",
       " ('满江红', 0.8732249736785889),\n",
       " ('秘要', 0.8707668781280518),\n",
       " ('武穆', 0.8687395453453064),\n",
       " ('海潮', 0.8634647727012634),\n",
       " ('篇', 0.8496643900871277),\n",
       " ('龙居寺', 0.8488210439682007),\n",
       " ('依据', 0.8450986742973328),\n",
       " ('蛮', 0.8368287682533264),\n",
       " ('基础', 0.8307682871818542),\n",
       " ('方有', 0.8304466009140015),\n",
       " ('争吵', 0.8262712359428406),\n",
       " ('剔', 0.8256016969680786),\n",
       " ('梵文', 0.824870228767395),\n",
       " ('遗书', 0.8241676092147827),\n",
       " ('庄严', 0.8237602114677429),\n",
       " ('那首', 0.8188032507896423),\n",
       " ('外家', 0.8185811042785645),\n",
       " ('鄱阳', 0.8167595267295837),\n",
       " ('银灯', 0.8158949017524719),\n",
       " ('秘传', 0.8125125169754028),\n",
       " ('上乘', 0.8122380375862122),\n",
       " ('第一件', 0.8117091059684753),\n",
       " ('嗑', 0.8111890554428101),\n",
       " ('一部', 0.8083304762840271),\n",
       " ('半部', 0.8081983923912048),\n",
       " ('所藏', 0.807904839515686),\n",
       " ('御敌', 0.8072136640548706),\n",
       " ('世世代代', 0.8068327307701111),\n",
       " ('桃花源记', 0.8066876530647278),\n",
       " ('绿', 0.8066039085388184),\n",
       " ('滚瓜烂熟', 0.8063535094261169),\n",
       " ('碧', 0.8059398531913757),\n",
       " ('上卷', 0.8058403730392456),\n",
       " ('熟读', 0.8056533336639404),\n",
       " ('所作', 0.8054079413414001),\n",
       " ('词时', 0.8053004145622253),\n",
       " ('载', 0.8049386143684387),\n",
       " ('干连到', 0.8042944669723511)]"
      ]
     },
     "execution_count": 33,
     "metadata": {},
     "output_type": "execute_result"
    }
   ],
   "source": [
    "model.wv.most_similar(['九阴真经'],topn=50)\n"
   ]
  }
 ],
 "metadata": {
  "interpreter": {
   "hash": "b3ba2566441a7c06988d0923437866b63cedc61552a5af99d1f4fb67d367b25f"
  },
  "kernelspec": {
   "display_name": "Python 3.9.7 64-bit ('base': conda)",
   "language": "python",
   "name": "python3"
  },
  "language_info": {
   "codemirror_mode": {
    "name": "ipython",
    "version": 3
   },
   "file_extension": ".py",
   "mimetype": "text/x-python",
   "name": "python",
   "nbconvert_exporter": "python",
   "pygments_lexer": "ipython3",
   "version": "3.9.7"
  },
  "orig_nbformat": 4
 },
 "nbformat": 4,
 "nbformat_minor": 2
}
